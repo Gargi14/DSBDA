{
 "cells": [
  {
   "cell_type": "code",
   "execution_count": 1,
   "id": "41594367",
   "metadata": {},
   "outputs": [],
   "source": [
    "import pandas as pd\n",
    "import numpy as np"
   ]
  },
  {
   "cell_type": "code",
   "execution_count": 2,
   "id": "8f61c6a4",
   "metadata": {},
   "outputs": [],
   "source": [
    "df=pd.read_csv('ANTI_DATASET.csv')"
   ]
  },
  {
   "cell_type": "code",
   "execution_count": 3,
   "id": "9e6a0605",
   "metadata": {},
   "outputs": [
    {
     "data": {
      "text/html": [
       "<div>\n",
       "<style scoped>\n",
       "    .dataframe tbody tr th:only-of-type {\n",
       "        vertical-align: middle;\n",
       "    }\n",
       "\n",
       "    .dataframe tbody tr th {\n",
       "        vertical-align: top;\n",
       "    }\n",
       "\n",
       "    .dataframe thead th {\n",
       "        text-align: right;\n",
       "    }\n",
       "</style>\n",
       "<table border=\"1\" class=\"dataframe\">\n",
       "  <thead>\n",
       "    <tr style=\"text-align: right;\">\n",
       "      <th></th>\n",
       "      <th>ANTI_A</th>\n",
       "      <th>ANTI_B</th>\n",
       "      <th>V1</th>\n",
       "    </tr>\n",
       "  </thead>\n",
       "  <tbody>\n",
       "    <tr>\n",
       "      <th>0</th>\n",
       "      <td>2.77</td>\n",
       "      <td>98.1</td>\n",
       "      <td>6.0</td>\n",
       "    </tr>\n",
       "    <tr>\n",
       "      <th>1</th>\n",
       "      <td>9.79</td>\n",
       "      <td>16.8</td>\n",
       "      <td>6.7</td>\n",
       "    </tr>\n",
       "    <tr>\n",
       "      <th>2</th>\n",
       "      <td>9.29</td>\n",
       "      <td>13.6</td>\n",
       "      <td>7.5</td>\n",
       "    </tr>\n",
       "    <tr>\n",
       "      <th>3</th>\n",
       "      <td>3.41</td>\n",
       "      <td>1.6</td>\n",
       "      <td>7.6</td>\n",
       "    </tr>\n",
       "    <tr>\n",
       "      <th>4</th>\n",
       "      <td>9.83</td>\n",
       "      <td>55.3</td>\n",
       "      <td>8.4</td>\n",
       "    </tr>\n",
       "    <tr>\n",
       "      <th>5</th>\n",
       "      <td>5.76</td>\n",
       "      <td>94.4</td>\n",
       "      <td>9.3</td>\n",
       "    </tr>\n",
       "    <tr>\n",
       "      <th>6</th>\n",
       "      <td>2.73</td>\n",
       "      <td>67.2</td>\n",
       "      <td>9.4</td>\n",
       "    </tr>\n",
       "    <tr>\n",
       "      <th>7</th>\n",
       "      <td>0.17</td>\n",
       "      <td>41.9</td>\n",
       "      <td>9.6</td>\n",
       "    </tr>\n",
       "    <tr>\n",
       "      <th>8</th>\n",
       "      <td>7.50</td>\n",
       "      <td>22.7</td>\n",
       "      <td>10.6</td>\n",
       "    </tr>\n",
       "    <tr>\n",
       "      <th>9</th>\n",
       "      <td>0.21</td>\n",
       "      <td>39.6</td>\n",
       "      <td>11.2</td>\n",
       "    </tr>\n",
       "  </tbody>\n",
       "</table>\n",
       "</div>"
      ],
      "text/plain": [
       "   ANTI_A  ANTI_B    V1\n",
       "0    2.77    98.1   6.0\n",
       "1    9.79    16.8   6.7\n",
       "2    9.29    13.6   7.5\n",
       "3    3.41     1.6   7.6\n",
       "4    9.83    55.3   8.4\n",
       "5    5.76    94.4   9.3\n",
       "6    2.73    67.2   9.4\n",
       "7    0.17    41.9   9.6\n",
       "8    7.50    22.7  10.6\n",
       "9    0.21    39.6  11.2"
      ]
     },
     "execution_count": 3,
     "metadata": {},
     "output_type": "execute_result"
    }
   ],
   "source": [
    "df.head(10)"
   ]
  },
  {
   "cell_type": "code",
   "execution_count": 4,
   "id": "5df8028c",
   "metadata": {},
   "outputs": [
    {
     "data": {
      "text/plain": [
       "ANTI_A    0\n",
       "ANTI_B    0\n",
       "V1        0\n",
       "dtype: int64"
      ]
     },
     "execution_count": 4,
     "metadata": {},
     "output_type": "execute_result"
    }
   ],
   "source": [
    "df.isnull().sum()"
   ]
  },
  {
   "cell_type": "code",
   "execution_count": 5,
   "id": "05afe2aa",
   "metadata": {},
   "outputs": [
    {
     "data": {
      "text/plain": [
       "count    40.000000\n",
       "mean     37.465000\n",
       "std      30.809885\n",
       "min       6.000000\n",
       "25%      11.275000\n",
       "50%      16.150000\n",
       "75%      69.275000\n",
       "max      90.700000\n",
       "Name: V1, dtype: float64"
      ]
     },
     "execution_count": 5,
     "metadata": {},
     "output_type": "execute_result"
    }
   ],
   "source": [
    "df['V1'].describe()"
   ]
  },
  {
   "cell_type": "code",
   "execution_count": 6,
   "id": "3be794bb",
   "metadata": {},
   "outputs": [
    {
     "data": {
      "text/plain": [
       "array([ 6.  , 22.94, 39.88, 56.82, 73.76, 90.7 ])"
      ]
     },
     "execution_count": 6,
     "metadata": {},
     "output_type": "execute_result"
    }
   ],
   "source": [
    "bins=np.linspace(6,90.7,6)\n",
    "category=['V1','V2','V3','V4','V5']\n",
    "df['VirusType']=pd.cut(df['V1'],bins,labels=category,include_lowest=True)\n",
    "bins"
   ]
  },
  {
   "cell_type": "code",
   "execution_count": 7,
   "id": "bc838a24",
   "metadata": {},
   "outputs": [
    {
     "data": {
      "text/html": [
       "<div>\n",
       "<style scoped>\n",
       "    .dataframe tbody tr th:only-of-type {\n",
       "        vertical-align: middle;\n",
       "    }\n",
       "\n",
       "    .dataframe tbody tr th {\n",
       "        vertical-align: top;\n",
       "    }\n",
       "\n",
       "    .dataframe thead th {\n",
       "        text-align: right;\n",
       "    }\n",
       "</style>\n",
       "<table border=\"1\" class=\"dataframe\">\n",
       "  <thead>\n",
       "    <tr style=\"text-align: right;\">\n",
       "      <th></th>\n",
       "      <th>ANTI_A</th>\n",
       "      <th>ANTI_B</th>\n",
       "      <th>V1</th>\n",
       "      <th>VirusType</th>\n",
       "    </tr>\n",
       "  </thead>\n",
       "  <tbody>\n",
       "    <tr>\n",
       "      <th>0</th>\n",
       "      <td>2.77</td>\n",
       "      <td>98.1</td>\n",
       "      <td>6.0</td>\n",
       "      <td>V1</td>\n",
       "    </tr>\n",
       "    <tr>\n",
       "      <th>1</th>\n",
       "      <td>9.79</td>\n",
       "      <td>16.8</td>\n",
       "      <td>6.7</td>\n",
       "      <td>V1</td>\n",
       "    </tr>\n",
       "    <tr>\n",
       "      <th>2</th>\n",
       "      <td>9.29</td>\n",
       "      <td>13.6</td>\n",
       "      <td>7.5</td>\n",
       "      <td>V1</td>\n",
       "    </tr>\n",
       "    <tr>\n",
       "      <th>3</th>\n",
       "      <td>3.41</td>\n",
       "      <td>1.6</td>\n",
       "      <td>7.6</td>\n",
       "      <td>V1</td>\n",
       "    </tr>\n",
       "    <tr>\n",
       "      <th>4</th>\n",
       "      <td>9.83</td>\n",
       "      <td>55.3</td>\n",
       "      <td>8.4</td>\n",
       "      <td>V1</td>\n",
       "    </tr>\n",
       "    <tr>\n",
       "      <th>5</th>\n",
       "      <td>5.76</td>\n",
       "      <td>94.4</td>\n",
       "      <td>9.3</td>\n",
       "      <td>V1</td>\n",
       "    </tr>\n",
       "    <tr>\n",
       "      <th>6</th>\n",
       "      <td>2.73</td>\n",
       "      <td>67.2</td>\n",
       "      <td>9.4</td>\n",
       "      <td>V1</td>\n",
       "    </tr>\n",
       "    <tr>\n",
       "      <th>7</th>\n",
       "      <td>0.17</td>\n",
       "      <td>41.9</td>\n",
       "      <td>9.6</td>\n",
       "      <td>V1</td>\n",
       "    </tr>\n",
       "    <tr>\n",
       "      <th>8</th>\n",
       "      <td>7.50</td>\n",
       "      <td>22.7</td>\n",
       "      <td>10.6</td>\n",
       "      <td>V1</td>\n",
       "    </tr>\n",
       "    <tr>\n",
       "      <th>9</th>\n",
       "      <td>0.21</td>\n",
       "      <td>39.6</td>\n",
       "      <td>11.2</td>\n",
       "      <td>V1</td>\n",
       "    </tr>\n",
       "    <tr>\n",
       "      <th>10</th>\n",
       "      <td>0.66</td>\n",
       "      <td>61.6</td>\n",
       "      <td>11.3</td>\n",
       "      <td>V1</td>\n",
       "    </tr>\n",
       "    <tr>\n",
       "      <th>11</th>\n",
       "      <td>2.84</td>\n",
       "      <td>78.9</td>\n",
       "      <td>11.5</td>\n",
       "      <td>V1</td>\n",
       "    </tr>\n",
       "    <tr>\n",
       "      <th>12</th>\n",
       "      <td>7.90</td>\n",
       "      <td>15.5</td>\n",
       "      <td>11.5</td>\n",
       "      <td>V1</td>\n",
       "    </tr>\n",
       "    <tr>\n",
       "      <th>13</th>\n",
       "      <td>2.00</td>\n",
       "      <td>93.3</td>\n",
       "      <td>11.9</td>\n",
       "      <td>V1</td>\n",
       "    </tr>\n",
       "    <tr>\n",
       "      <th>14</th>\n",
       "      <td>5.07</td>\n",
       "      <td>87.9</td>\n",
       "      <td>13.0</td>\n",
       "      <td>V1</td>\n",
       "    </tr>\n",
       "    <tr>\n",
       "      <th>15</th>\n",
       "      <td>2.14</td>\n",
       "      <td>85.0</td>\n",
       "      <td>13.8</td>\n",
       "      <td>V1</td>\n",
       "    </tr>\n",
       "    <tr>\n",
       "      <th>16</th>\n",
       "      <td>9.94</td>\n",
       "      <td>16.4</td>\n",
       "      <td>14.1</td>\n",
       "      <td>V1</td>\n",
       "    </tr>\n",
       "    <tr>\n",
       "      <th>17</th>\n",
       "      <td>7.21</td>\n",
       "      <td>20.6</td>\n",
       "      <td>14.9</td>\n",
       "      <td>V1</td>\n",
       "    </tr>\n",
       "    <tr>\n",
       "      <th>18</th>\n",
       "      <td>4.41</td>\n",
       "      <td>4.8</td>\n",
       "      <td>15.2</td>\n",
       "      <td>V1</td>\n",
       "    </tr>\n",
       "    <tr>\n",
       "      <th>19</th>\n",
       "      <td>8.70</td>\n",
       "      <td>48.3</td>\n",
       "      <td>15.8</td>\n",
       "      <td>V1</td>\n",
       "    </tr>\n",
       "    <tr>\n",
       "      <th>20</th>\n",
       "      <td>3.05</td>\n",
       "      <td>86.3</td>\n",
       "      <td>16.5</td>\n",
       "      <td>V1</td>\n",
       "    </tr>\n",
       "    <tr>\n",
       "      <th>21</th>\n",
       "      <td>9.34</td>\n",
       "      <td>52.6</td>\n",
       "      <td>17.7</td>\n",
       "      <td>V1</td>\n",
       "    </tr>\n",
       "    <tr>\n",
       "      <th>22</th>\n",
       "      <td>7.36</td>\n",
       "      <td>13.0</td>\n",
       "      <td>21.4</td>\n",
       "      <td>V1</td>\n",
       "    </tr>\n",
       "    <tr>\n",
       "      <th>23</th>\n",
       "      <td>7.79</td>\n",
       "      <td>61.4</td>\n",
       "      <td>55.5</td>\n",
       "      <td>V3</td>\n",
       "    </tr>\n",
       "    <tr>\n",
       "      <th>24</th>\n",
       "      <td>4.24</td>\n",
       "      <td>53.3</td>\n",
       "      <td>60.0</td>\n",
       "      <td>V4</td>\n",
       "    </tr>\n",
       "    <tr>\n",
       "      <th>25</th>\n",
       "      <td>0.63</td>\n",
       "      <td>11.3</td>\n",
       "      <td>61.4</td>\n",
       "      <td>V4</td>\n",
       "    </tr>\n",
       "    <tr>\n",
       "      <th>26</th>\n",
       "      <td>1.43</td>\n",
       "      <td>26.2</td>\n",
       "      <td>62.1</td>\n",
       "      <td>V4</td>\n",
       "    </tr>\n",
       "    <tr>\n",
       "      <th>27</th>\n",
       "      <td>1.44</td>\n",
       "      <td>32.9</td>\n",
       "      <td>64.9</td>\n",
       "      <td>V4</td>\n",
       "    </tr>\n",
       "    <tr>\n",
       "      <th>28</th>\n",
       "      <td>7.34</td>\n",
       "      <td>83.4</td>\n",
       "      <td>64.9</td>\n",
       "      <td>V4</td>\n",
       "    </tr>\n",
       "    <tr>\n",
       "      <th>29</th>\n",
       "      <td>1.74</td>\n",
       "      <td>12.7</td>\n",
       "      <td>69.0</td>\n",
       "      <td>V4</td>\n",
       "    </tr>\n",
       "    <tr>\n",
       "      <th>30</th>\n",
       "      <td>6.12</td>\n",
       "      <td>35.4</td>\n",
       "      <td>70.1</td>\n",
       "      <td>V4</td>\n",
       "    </tr>\n",
       "    <tr>\n",
       "      <th>31</th>\n",
       "      <td>7.59</td>\n",
       "      <td>76.7</td>\n",
       "      <td>73.4</td>\n",
       "      <td>V4</td>\n",
       "    </tr>\n",
       "    <tr>\n",
       "      <th>32</th>\n",
       "      <td>7.31</td>\n",
       "      <td>58.4</td>\n",
       "      <td>74.9</td>\n",
       "      <td>V5</td>\n",
       "    </tr>\n",
       "    <tr>\n",
       "      <th>33</th>\n",
       "      <td>7.17</td>\n",
       "      <td>86.9</td>\n",
       "      <td>76.8</td>\n",
       "      <td>V5</td>\n",
       "    </tr>\n",
       "    <tr>\n",
       "      <th>34</th>\n",
       "      <td>2.99</td>\n",
       "      <td>20.6</td>\n",
       "      <td>77.0</td>\n",
       "      <td>V5</td>\n",
       "    </tr>\n",
       "    <tr>\n",
       "      <th>35</th>\n",
       "      <td>2.84</td>\n",
       "      <td>33.6</td>\n",
       "      <td>77.9</td>\n",
       "      <td>V5</td>\n",
       "    </tr>\n",
       "    <tr>\n",
       "      <th>36</th>\n",
       "      <td>0.67</td>\n",
       "      <td>9.2</td>\n",
       "      <td>80.1</td>\n",
       "      <td>V5</td>\n",
       "    </tr>\n",
       "    <tr>\n",
       "      <th>37</th>\n",
       "      <td>8.62</td>\n",
       "      <td>78.9</td>\n",
       "      <td>81.2</td>\n",
       "      <td>V5</td>\n",
       "    </tr>\n",
       "    <tr>\n",
       "      <th>38</th>\n",
       "      <td>7.44</td>\n",
       "      <td>98.8</td>\n",
       "      <td>83.8</td>\n",
       "      <td>V5</td>\n",
       "    </tr>\n",
       "    <tr>\n",
       "      <th>39</th>\n",
       "      <td>7.21</td>\n",
       "      <td>88.0</td>\n",
       "      <td>90.7</td>\n",
       "      <td>V5</td>\n",
       "    </tr>\n",
       "  </tbody>\n",
       "</table>\n",
       "</div>"
      ],
      "text/plain": [
       "    ANTI_A  ANTI_B    V1 VirusType\n",
       "0     2.77    98.1   6.0        V1\n",
       "1     9.79    16.8   6.7        V1\n",
       "2     9.29    13.6   7.5        V1\n",
       "3     3.41     1.6   7.6        V1\n",
       "4     9.83    55.3   8.4        V1\n",
       "5     5.76    94.4   9.3        V1\n",
       "6     2.73    67.2   9.4        V1\n",
       "7     0.17    41.9   9.6        V1\n",
       "8     7.50    22.7  10.6        V1\n",
       "9     0.21    39.6  11.2        V1\n",
       "10    0.66    61.6  11.3        V1\n",
       "11    2.84    78.9  11.5        V1\n",
       "12    7.90    15.5  11.5        V1\n",
       "13    2.00    93.3  11.9        V1\n",
       "14    5.07    87.9  13.0        V1\n",
       "15    2.14    85.0  13.8        V1\n",
       "16    9.94    16.4  14.1        V1\n",
       "17    7.21    20.6  14.9        V1\n",
       "18    4.41     4.8  15.2        V1\n",
       "19    8.70    48.3  15.8        V1\n",
       "20    3.05    86.3  16.5        V1\n",
       "21    9.34    52.6  17.7        V1\n",
       "22    7.36    13.0  21.4        V1\n",
       "23    7.79    61.4  55.5        V3\n",
       "24    4.24    53.3  60.0        V4\n",
       "25    0.63    11.3  61.4        V4\n",
       "26    1.43    26.2  62.1        V4\n",
       "27    1.44    32.9  64.9        V4\n",
       "28    7.34    83.4  64.9        V4\n",
       "29    1.74    12.7  69.0        V4\n",
       "30    6.12    35.4  70.1        V4\n",
       "31    7.59    76.7  73.4        V4\n",
       "32    7.31    58.4  74.9        V5\n",
       "33    7.17    86.9  76.8        V5\n",
       "34    2.99    20.6  77.0        V5\n",
       "35    2.84    33.6  77.9        V5\n",
       "36    0.67     9.2  80.1        V5\n",
       "37    8.62    78.9  81.2        V5\n",
       "38    7.44    98.8  83.8        V5\n",
       "39    7.21    88.0  90.7        V5"
      ]
     },
     "execution_count": 7,
     "metadata": {},
     "output_type": "execute_result"
    }
   ],
   "source": [
    "df"
   ]
  },
  {
   "cell_type": "code",
   "execution_count": 8,
   "id": "348859b1",
   "metadata": {},
   "outputs": [
    {
     "data": {
      "text/plain": [
       "0     (5.999, 10.4]\n",
       "1     (5.999, 10.4]\n",
       "2     (5.999, 10.4]\n",
       "3     (5.999, 10.4]\n",
       "4     (5.999, 10.4]\n",
       "5     (5.999, 10.4]\n",
       "6     (5.999, 10.4]\n",
       "7     (5.999, 10.4]\n",
       "8     (10.4, 13.98]\n",
       "9     (10.4, 13.98]\n",
       "10    (10.4, 13.98]\n",
       "11    (10.4, 13.98]\n",
       "12    (10.4, 13.98]\n",
       "13    (10.4, 13.98]\n",
       "14    (10.4, 13.98]\n",
       "15    (10.4, 13.98]\n",
       "16    (13.98, 57.3]\n",
       "17    (13.98, 57.3]\n",
       "18    (13.98, 57.3]\n",
       "19    (13.98, 57.3]\n",
       "20    (13.98, 57.3]\n",
       "21    (13.98, 57.3]\n",
       "22    (13.98, 57.3]\n",
       "23    (13.98, 57.3]\n",
       "24     (57.3, 73.7]\n",
       "25     (57.3, 73.7]\n",
       "26     (57.3, 73.7]\n",
       "27     (57.3, 73.7]\n",
       "28     (57.3, 73.7]\n",
       "29     (57.3, 73.7]\n",
       "30     (57.3, 73.7]\n",
       "31     (57.3, 73.7]\n",
       "32     (73.7, 90.7]\n",
       "33     (73.7, 90.7]\n",
       "34     (73.7, 90.7]\n",
       "35     (73.7, 90.7]\n",
       "36     (73.7, 90.7]\n",
       "37     (73.7, 90.7]\n",
       "38     (73.7, 90.7]\n",
       "39     (73.7, 90.7]\n",
       "Name: V1, dtype: category\n",
       "Categories (5, interval[float64]): [(5.999, 10.4] < (10.4, 13.98] < (13.98, 57.3] < (57.3, 73.7] < (73.7, 90.7]]"
      ]
     },
     "execution_count": 8,
     "metadata": {},
     "output_type": "execute_result"
    }
   ],
   "source": [
    "pd.qcut(df['V1'],q=5)"
   ]
  },
  {
   "cell_type": "code",
   "execution_count": 9,
   "id": "bab3614c",
   "metadata": {},
   "outputs": [
    {
     "data": {
      "text/html": [
       "<div>\n",
       "<style scoped>\n",
       "    .dataframe tbody tr th:only-of-type {\n",
       "        vertical-align: middle;\n",
       "    }\n",
       "\n",
       "    .dataframe tbody tr th {\n",
       "        vertical-align: top;\n",
       "    }\n",
       "\n",
       "    .dataframe thead th {\n",
       "        text-align: right;\n",
       "    }\n",
       "</style>\n",
       "<table border=\"1\" class=\"dataframe\">\n",
       "  <thead>\n",
       "    <tr style=\"text-align: right;\">\n",
       "      <th></th>\n",
       "      <th>ANTI_A</th>\n",
       "      <th>ANTI_B</th>\n",
       "      <th>V1</th>\n",
       "      <th>VirusType</th>\n",
       "      <th>VirusPower</th>\n",
       "    </tr>\n",
       "  </thead>\n",
       "  <tbody>\n",
       "    <tr>\n",
       "      <th>0</th>\n",
       "      <td>2.77</td>\n",
       "      <td>98.1</td>\n",
       "      <td>6.0</td>\n",
       "      <td>V1</td>\n",
       "      <td>low</td>\n",
       "    </tr>\n",
       "    <tr>\n",
       "      <th>1</th>\n",
       "      <td>9.79</td>\n",
       "      <td>16.8</td>\n",
       "      <td>6.7</td>\n",
       "      <td>V1</td>\n",
       "      <td>low</td>\n",
       "    </tr>\n",
       "    <tr>\n",
       "      <th>2</th>\n",
       "      <td>9.29</td>\n",
       "      <td>13.6</td>\n",
       "      <td>7.5</td>\n",
       "      <td>V1</td>\n",
       "      <td>low</td>\n",
       "    </tr>\n",
       "    <tr>\n",
       "      <th>3</th>\n",
       "      <td>3.41</td>\n",
       "      <td>1.6</td>\n",
       "      <td>7.6</td>\n",
       "      <td>V1</td>\n",
       "      <td>low</td>\n",
       "    </tr>\n",
       "    <tr>\n",
       "      <th>4</th>\n",
       "      <td>9.83</td>\n",
       "      <td>55.3</td>\n",
       "      <td>8.4</td>\n",
       "      <td>V1</td>\n",
       "      <td>low</td>\n",
       "    </tr>\n",
       "    <tr>\n",
       "      <th>5</th>\n",
       "      <td>5.76</td>\n",
       "      <td>94.4</td>\n",
       "      <td>9.3</td>\n",
       "      <td>V1</td>\n",
       "      <td>low</td>\n",
       "    </tr>\n",
       "    <tr>\n",
       "      <th>6</th>\n",
       "      <td>2.73</td>\n",
       "      <td>67.2</td>\n",
       "      <td>9.4</td>\n",
       "      <td>V1</td>\n",
       "      <td>low</td>\n",
       "    </tr>\n",
       "    <tr>\n",
       "      <th>7</th>\n",
       "      <td>0.17</td>\n",
       "      <td>41.9</td>\n",
       "      <td>9.6</td>\n",
       "      <td>V1</td>\n",
       "      <td>low</td>\n",
       "    </tr>\n",
       "    <tr>\n",
       "      <th>8</th>\n",
       "      <td>7.50</td>\n",
       "      <td>22.7</td>\n",
       "      <td>10.6</td>\n",
       "      <td>V1</td>\n",
       "      <td>low</td>\n",
       "    </tr>\n",
       "    <tr>\n",
       "      <th>9</th>\n",
       "      <td>0.21</td>\n",
       "      <td>39.6</td>\n",
       "      <td>11.2</td>\n",
       "      <td>V1</td>\n",
       "      <td>low</td>\n",
       "    </tr>\n",
       "    <tr>\n",
       "      <th>10</th>\n",
       "      <td>0.66</td>\n",
       "      <td>61.6</td>\n",
       "      <td>11.3</td>\n",
       "      <td>V1</td>\n",
       "      <td>low</td>\n",
       "    </tr>\n",
       "    <tr>\n",
       "      <th>11</th>\n",
       "      <td>2.84</td>\n",
       "      <td>78.9</td>\n",
       "      <td>11.5</td>\n",
       "      <td>V1</td>\n",
       "      <td>low</td>\n",
       "    </tr>\n",
       "    <tr>\n",
       "      <th>12</th>\n",
       "      <td>7.90</td>\n",
       "      <td>15.5</td>\n",
       "      <td>11.5</td>\n",
       "      <td>V1</td>\n",
       "      <td>low</td>\n",
       "    </tr>\n",
       "    <tr>\n",
       "      <th>13</th>\n",
       "      <td>2.00</td>\n",
       "      <td>93.3</td>\n",
       "      <td>11.9</td>\n",
       "      <td>V1</td>\n",
       "      <td>low</td>\n",
       "    </tr>\n",
       "    <tr>\n",
       "      <th>14</th>\n",
       "      <td>5.07</td>\n",
       "      <td>87.9</td>\n",
       "      <td>13.0</td>\n",
       "      <td>V1</td>\n",
       "      <td>low</td>\n",
       "    </tr>\n",
       "    <tr>\n",
       "      <th>15</th>\n",
       "      <td>2.14</td>\n",
       "      <td>85.0</td>\n",
       "      <td>13.8</td>\n",
       "      <td>V1</td>\n",
       "      <td>low</td>\n",
       "    </tr>\n",
       "    <tr>\n",
       "      <th>16</th>\n",
       "      <td>9.94</td>\n",
       "      <td>16.4</td>\n",
       "      <td>14.1</td>\n",
       "      <td>V1</td>\n",
       "      <td>low</td>\n",
       "    </tr>\n",
       "    <tr>\n",
       "      <th>17</th>\n",
       "      <td>7.21</td>\n",
       "      <td>20.6</td>\n",
       "      <td>14.9</td>\n",
       "      <td>V1</td>\n",
       "      <td>low</td>\n",
       "    </tr>\n",
       "    <tr>\n",
       "      <th>18</th>\n",
       "      <td>4.41</td>\n",
       "      <td>4.8</td>\n",
       "      <td>15.2</td>\n",
       "      <td>V1</td>\n",
       "      <td>low</td>\n",
       "    </tr>\n",
       "    <tr>\n",
       "      <th>19</th>\n",
       "      <td>8.70</td>\n",
       "      <td>48.3</td>\n",
       "      <td>15.8</td>\n",
       "      <td>V1</td>\n",
       "      <td>low</td>\n",
       "    </tr>\n",
       "    <tr>\n",
       "      <th>20</th>\n",
       "      <td>3.05</td>\n",
       "      <td>86.3</td>\n",
       "      <td>16.5</td>\n",
       "      <td>V1</td>\n",
       "      <td>low</td>\n",
       "    </tr>\n",
       "    <tr>\n",
       "      <th>21</th>\n",
       "      <td>9.34</td>\n",
       "      <td>52.6</td>\n",
       "      <td>17.7</td>\n",
       "      <td>V1</td>\n",
       "      <td>low</td>\n",
       "    </tr>\n",
       "    <tr>\n",
       "      <th>22</th>\n",
       "      <td>7.36</td>\n",
       "      <td>13.0</td>\n",
       "      <td>21.4</td>\n",
       "      <td>V1</td>\n",
       "      <td>low</td>\n",
       "    </tr>\n",
       "    <tr>\n",
       "      <th>23</th>\n",
       "      <td>7.79</td>\n",
       "      <td>61.4</td>\n",
       "      <td>55.5</td>\n",
       "      <td>V3</td>\n",
       "      <td>high</td>\n",
       "    </tr>\n",
       "    <tr>\n",
       "      <th>24</th>\n",
       "      <td>4.24</td>\n",
       "      <td>53.3</td>\n",
       "      <td>60.0</td>\n",
       "      <td>V4</td>\n",
       "      <td>high</td>\n",
       "    </tr>\n",
       "    <tr>\n",
       "      <th>25</th>\n",
       "      <td>0.63</td>\n",
       "      <td>11.3</td>\n",
       "      <td>61.4</td>\n",
       "      <td>V4</td>\n",
       "      <td>high</td>\n",
       "    </tr>\n",
       "    <tr>\n",
       "      <th>26</th>\n",
       "      <td>1.43</td>\n",
       "      <td>26.2</td>\n",
       "      <td>62.1</td>\n",
       "      <td>V4</td>\n",
       "      <td>high</td>\n",
       "    </tr>\n",
       "    <tr>\n",
       "      <th>27</th>\n",
       "      <td>1.44</td>\n",
       "      <td>32.9</td>\n",
       "      <td>64.9</td>\n",
       "      <td>V4</td>\n",
       "      <td>high</td>\n",
       "    </tr>\n",
       "    <tr>\n",
       "      <th>28</th>\n",
       "      <td>7.34</td>\n",
       "      <td>83.4</td>\n",
       "      <td>64.9</td>\n",
       "      <td>V4</td>\n",
       "      <td>high</td>\n",
       "    </tr>\n",
       "    <tr>\n",
       "      <th>29</th>\n",
       "      <td>1.74</td>\n",
       "      <td>12.7</td>\n",
       "      <td>69.0</td>\n",
       "      <td>V4</td>\n",
       "      <td>high</td>\n",
       "    </tr>\n",
       "    <tr>\n",
       "      <th>30</th>\n",
       "      <td>6.12</td>\n",
       "      <td>35.4</td>\n",
       "      <td>70.1</td>\n",
       "      <td>V4</td>\n",
       "      <td>high</td>\n",
       "    </tr>\n",
       "    <tr>\n",
       "      <th>31</th>\n",
       "      <td>7.59</td>\n",
       "      <td>76.7</td>\n",
       "      <td>73.4</td>\n",
       "      <td>V4</td>\n",
       "      <td>high</td>\n",
       "    </tr>\n",
       "    <tr>\n",
       "      <th>32</th>\n",
       "      <td>7.31</td>\n",
       "      <td>58.4</td>\n",
       "      <td>74.9</td>\n",
       "      <td>V5</td>\n",
       "      <td>high</td>\n",
       "    </tr>\n",
       "    <tr>\n",
       "      <th>33</th>\n",
       "      <td>7.17</td>\n",
       "      <td>86.9</td>\n",
       "      <td>76.8</td>\n",
       "      <td>V5</td>\n",
       "      <td>high</td>\n",
       "    </tr>\n",
       "    <tr>\n",
       "      <th>34</th>\n",
       "      <td>2.99</td>\n",
       "      <td>20.6</td>\n",
       "      <td>77.0</td>\n",
       "      <td>V5</td>\n",
       "      <td>high</td>\n",
       "    </tr>\n",
       "    <tr>\n",
       "      <th>35</th>\n",
       "      <td>2.84</td>\n",
       "      <td>33.6</td>\n",
       "      <td>77.9</td>\n",
       "      <td>V5</td>\n",
       "      <td>high</td>\n",
       "    </tr>\n",
       "    <tr>\n",
       "      <th>36</th>\n",
       "      <td>0.67</td>\n",
       "      <td>9.2</td>\n",
       "      <td>80.1</td>\n",
       "      <td>V5</td>\n",
       "      <td>high</td>\n",
       "    </tr>\n",
       "    <tr>\n",
       "      <th>37</th>\n",
       "      <td>8.62</td>\n",
       "      <td>78.9</td>\n",
       "      <td>81.2</td>\n",
       "      <td>V5</td>\n",
       "      <td>high</td>\n",
       "    </tr>\n",
       "    <tr>\n",
       "      <th>38</th>\n",
       "      <td>7.44</td>\n",
       "      <td>98.8</td>\n",
       "      <td>83.8</td>\n",
       "      <td>V5</td>\n",
       "      <td>high</td>\n",
       "    </tr>\n",
       "    <tr>\n",
       "      <th>39</th>\n",
       "      <td>7.21</td>\n",
       "      <td>88.0</td>\n",
       "      <td>90.7</td>\n",
       "      <td>V5</td>\n",
       "      <td>high</td>\n",
       "    </tr>\n",
       "  </tbody>\n",
       "</table>\n",
       "</div>"
      ],
      "text/plain": [
       "    ANTI_A  ANTI_B    V1 VirusType VirusPower\n",
       "0     2.77    98.1   6.0        V1        low\n",
       "1     9.79    16.8   6.7        V1        low\n",
       "2     9.29    13.6   7.5        V1        low\n",
       "3     3.41     1.6   7.6        V1        low\n",
       "4     9.83    55.3   8.4        V1        low\n",
       "5     5.76    94.4   9.3        V1        low\n",
       "6     2.73    67.2   9.4        V1        low\n",
       "7     0.17    41.9   9.6        V1        low\n",
       "8     7.50    22.7  10.6        V1        low\n",
       "9     0.21    39.6  11.2        V1        low\n",
       "10    0.66    61.6  11.3        V1        low\n",
       "11    2.84    78.9  11.5        V1        low\n",
       "12    7.90    15.5  11.5        V1        low\n",
       "13    2.00    93.3  11.9        V1        low\n",
       "14    5.07    87.9  13.0        V1        low\n",
       "15    2.14    85.0  13.8        V1        low\n",
       "16    9.94    16.4  14.1        V1        low\n",
       "17    7.21    20.6  14.9        V1        low\n",
       "18    4.41     4.8  15.2        V1        low\n",
       "19    8.70    48.3  15.8        V1        low\n",
       "20    3.05    86.3  16.5        V1        low\n",
       "21    9.34    52.6  17.7        V1        low\n",
       "22    7.36    13.0  21.4        V1        low\n",
       "23    7.79    61.4  55.5        V3       high\n",
       "24    4.24    53.3  60.0        V4       high\n",
       "25    0.63    11.3  61.4        V4       high\n",
       "26    1.43    26.2  62.1        V4       high\n",
       "27    1.44    32.9  64.9        V4       high\n",
       "28    7.34    83.4  64.9        V4       high\n",
       "29    1.74    12.7  69.0        V4       high\n",
       "30    6.12    35.4  70.1        V4       high\n",
       "31    7.59    76.7  73.4        V4       high\n",
       "32    7.31    58.4  74.9        V5       high\n",
       "33    7.17    86.9  76.8        V5       high\n",
       "34    2.99    20.6  77.0        V5       high\n",
       "35    2.84    33.6  77.9        V5       high\n",
       "36    0.67     9.2  80.1        V5       high\n",
       "37    8.62    78.9  81.2        V5       high\n",
       "38    7.44    98.8  83.8        V5       high\n",
       "39    7.21    88.0  90.7        V5       high"
      ]
     },
     "execution_count": 9,
     "metadata": {},
     "output_type": "execute_result"
    }
   ],
   "source": [
    "bins=np.linspace(6,90.7,3)\n",
    "category=[\"low\",\"high\"]\n",
    "df[\"VirusPower\"]=pd.cut(df[\"V1\"],bins,labels=category,include_lowest=True)\n",
    "df"
   ]
  },
  {
   "cell_type": "code",
   "execution_count": 10,
   "id": "1f74fcdb",
   "metadata": {},
   "outputs": [
    {
     "data": {
      "text/plain": [
       "array([ 6.  , 48.35, 90.7 ])"
      ]
     },
     "execution_count": 10,
     "metadata": {},
     "output_type": "execute_result"
    }
   ],
   "source": [
    "bins"
   ]
  },
  {
   "cell_type": "code",
   "execution_count": 11,
   "id": "b74d1a26",
   "metadata": {},
   "outputs": [
    {
     "name": "stdout",
     "output_type": "stream",
     "text": [
      "    ANTI_A  ANTI_B    V1 VirusType VirusPower\n",
      "0     2.77    98.1   6.0        V1        low\n",
      "1     9.79    16.8   6.7        V1        low\n",
      "2     9.29    13.6   7.5        V1        low\n",
      "3     3.41     1.6   7.6        V1        low\n",
      "4     9.83    55.3   8.4        V1        low\n",
      "5     5.76    94.4   9.3        V1        low\n",
      "6     2.73    67.2   9.4        V1        low\n",
      "7     0.17    41.9   9.6        V1        low\n",
      "8     7.50    22.7  10.6        V1        low\n",
      "9     0.21    39.6  11.2        V1        low\n",
      "10    0.66    61.6  11.3        V1        low\n",
      "11    2.84    78.9  11.5        V1        low\n",
      "12    7.90    15.5  11.5        V1        low\n",
      "13    2.00    93.3  11.9        V1        low\n",
      "14    5.07    87.9  13.0        V1        low\n",
      "15    2.14    85.0  13.8        V1        low\n",
      "16    9.94    16.4  14.1        V1        low\n",
      "17    7.21    20.6  14.9        V1        low\n",
      "18    4.41     4.8  15.2        V1        low\n",
      "19    8.70    48.3  15.8        V1        low\n",
      "20    3.05    86.3  16.5        V1        low\n",
      "21    9.34    52.6  17.7        V1        low\n",
      "22    7.36    13.0  21.4        V1        low\n",
      "\n",
      "\n",
      "    ANTI_A  ANTI_B    V1 VirusType VirusPower\n",
      "23    7.79    61.4  55.5        V3       high\n",
      "24    4.24    53.3  60.0        V4       high\n",
      "25    0.63    11.3  61.4        V4       high\n",
      "26    1.43    26.2  62.1        V4       high\n",
      "27    1.44    32.9  64.9        V4       high\n",
      "28    7.34    83.4  64.9        V4       high\n",
      "29    1.74    12.7  69.0        V4       high\n",
      "30    6.12    35.4  70.1        V4       high\n",
      "31    7.59    76.7  73.4        V4       high\n",
      "32    7.31    58.4  74.9        V5       high\n",
      "33    7.17    86.9  76.8        V5       high\n",
      "34    2.99    20.6  77.0        V5       high\n",
      "35    2.84    33.6  77.9        V5       high\n",
      "36    0.67     9.2  80.1        V5       high\n",
      "37    8.62    78.9  81.2        V5       high\n",
      "38    7.44    98.8  83.8        V5       high\n",
      "39    7.21    88.0  90.7        V5       high\n"
     ]
    }
   ],
   "source": [
    "df1=df.iloc[:23,:]\n",
    "df2=df.iloc[23:,:]\n",
    "print(df1)\n",
    "print(\"\\n\")\n",
    "print(df2)"
   ]
  },
  {
   "cell_type": "code",
   "execution_count": 13,
   "id": "fbf47bc6",
   "metadata": {},
   "outputs": [
    {
     "name": "stdout",
     "output_type": "stream",
     "text": [
      "Mean df1- 11.952173913043477\n",
      "Mean df2- 71.98235294117646\n"
     ]
    }
   ],
   "source": [
    "df1_mean=df1[\"V1\"].mean()\n",
    "print('Mean df1-',df1_mean)\n",
    "df2_mean=df2[\"V1\"].mean()\n",
    "print('Mean df2-',df2_mean)"
   ]
  },
  {
   "cell_type": "code",
   "execution_count": 14,
   "id": "bf39bb31",
   "metadata": {},
   "outputs": [
    {
     "name": "stdout",
     "output_type": "stream",
     "text": [
      "11.5\n",
      "73.4\n"
     ]
    }
   ],
   "source": [
    "df1_median=df1[\"V1\"].median()\n",
    "print(df1_median)\n",
    "df2_median=df2[\"V1\"].median()\n",
    "print(df2_median)"
   ]
  },
  {
   "cell_type": "code",
   "execution_count": 15,
   "id": "6a62a045",
   "metadata": {},
   "outputs": [
    {
     "name": "stdout",
     "output_type": "stream",
     "text": [
      "3.8308401126096934\n",
      "9.593111805751409\n"
     ]
    }
   ],
   "source": [
    "df1_std=df1[\"V1\"].std()\n",
    "print(df1_std)\n",
    "df2_std=df2[\"V1\"].std()\n",
    "print(df2_std)"
   ]
  },
  {
   "cell_type": "code",
   "execution_count": 16,
   "id": "02e53476",
   "metadata": {},
   "outputs": [
    {
     "data": {
      "text/plain": [
       "count    23.000000\n",
       "mean     11.952174\n",
       "std       3.830840\n",
       "min       6.000000\n",
       "25%       9.350000\n",
       "50%      11.500000\n",
       "75%      14.500000\n",
       "max      21.400000\n",
       "Name: V1, dtype: float64"
      ]
     },
     "execution_count": 16,
     "metadata": {},
     "output_type": "execute_result"
    }
   ],
   "source": [
    "df1['V1'].describe()"
   ]
  },
  {
   "cell_type": "code",
   "execution_count": 17,
   "id": "5131e14f",
   "metadata": {},
   "outputs": [
    {
     "data": {
      "text/plain": [
       "count    17.000000\n",
       "mean     71.982353\n",
       "std       9.593112\n",
       "min      55.500000\n",
       "25%      64.900000\n",
       "50%      73.400000\n",
       "75%      77.900000\n",
       "max      90.700000\n",
       "Name: V1, dtype: float64"
      ]
     },
     "execution_count": 17,
     "metadata": {},
     "output_type": "execute_result"
    }
   ],
   "source": [
    "df2['V1'].describe()"
   ]
  },
  {
   "cell_type": "code",
   "execution_count": 18,
   "id": "79e6adc6",
   "metadata": {},
   "outputs": [],
   "source": [
    "import matplotlib.pyplot as mb"
   ]
  },
  {
   "cell_type": "code",
   "execution_count": 19,
   "id": "e68ae94a",
   "metadata": {},
   "outputs": [
    {
     "data": {
      "image/png": "[encoded data removed]",
      "text/plain": [
       "<Figure size 432x288 with 1 Axes>"
      ]
     },
     "metadata": {
      "needs_background": "light"
     },
     "output_type": "display_data"
    }
   ],
   "source": [
    "mb.boxplot(df1['V1'])\n",
    "mb.title(\"Box plot- V1\")\n",
    "mb.ylabel('V1')\n",
    "mb.show()"
   ]
  },
  {
   "cell_type": "code",
   "execution_count": 20,
   "id": "d8e831d8",
   "metadata": {},
   "outputs": [
    {
     "data": {
      "image/png": "[encoded data removed]",
      "text/plain": [
       "<Figure size 432x288 with 1 Axes>"
      ]
     },
     "metadata": {
      "needs_background": "light"
     },
     "output_type": "display_data"
    }
   ],
   "source": [
    "mb.boxplot(df2['V1'])\n",
    "mb.title(\"Box plot-V1\")\n",
    "mb.ylabel('V1')\n",
    "mb.show()"
   ]
  },
  {
   "cell_type": "code",
   "execution_count": 21,
   "id": "dc2f8c01",
   "metadata": {},
   "outputs": [],
   "source": [
    "dfx=df1.copy()"
   ]
  },
  {
   "cell_type": "code",
   "execution_count": 22,
   "id": "e9db3d03",
   "metadata": {},
   "outputs": [],
   "source": [
    "dfy=df2.copy()"
   ]
  },
  {
   "cell_type": "code",
   "execution_count": 23,
   "id": "6d2ec0ab",
   "metadata": {},
   "outputs": [],
   "source": [
    "dfx['ANTI_A']=(dfx['ANTI_A']-dfx['ANTI_A'].min())/(dfx['ANTI_A'].max()-dfx['ANTI_A'].min())\n",
    "dfx['ANTI_B']=(dfx['ANTI_B']-dfx['ANTI_B'].min())/(dfx['ANTI_B'].max()-dfx['ANTI_B'].min())"
   ]
  },
  {
   "cell_type": "code",
   "execution_count": 24,
   "id": "96ec732c",
   "metadata": {},
   "outputs": [
    {
     "data": {
      "text/plain": [
       "0     0.266121\n",
       "1     0.984647\n",
       "2     0.933470\n",
       "3     0.331627\n",
       "4     0.988741\n",
       "5     0.572160\n",
       "6     0.262027\n",
       "7     0.000000\n",
       "8     0.750256\n",
       "9     0.004094\n",
       "10    0.050154\n",
       "11    0.273286\n",
       "12    0.791198\n",
       "13    0.187308\n",
       "14    0.501535\n",
       "15    0.201638\n",
       "16    1.000000\n",
       "17    0.720573\n",
       "18    0.433982\n",
       "19    0.873081\n",
       "20    0.294780\n",
       "21    0.938588\n",
       "22    0.735926\n",
       "Name: ANTI_A, dtype: float64"
      ]
     },
     "execution_count": 24,
     "metadata": {},
     "output_type": "execute_result"
    }
   ],
   "source": [
    "dfx[\"ANTI_A\"]"
   ]
  },
  {
   "cell_type": "code",
   "execution_count": 25,
   "id": "aa8e1b37",
   "metadata": {},
   "outputs": [
    {
     "data": {
      "text/plain": [
       "0     1.000000\n",
       "1     0.157513\n",
       "2     0.124352\n",
       "3     0.000000\n",
       "4     0.556477\n",
       "5     0.961658\n",
       "6     0.679793\n",
       "7     0.417617\n",
       "8     0.218653\n",
       "9     0.393782\n",
       "10    0.621762\n",
       "11    0.801036\n",
       "12    0.144041\n",
       "13    0.950259\n",
       "14    0.894301\n",
       "15    0.864249\n",
       "16    0.153368\n",
       "17    0.196891\n",
       "18    0.033161\n",
       "19    0.483938\n",
       "20    0.877720\n",
       "21    0.528497\n",
       "22    0.118135\n",
       "Name: ANTI_B, dtype: float64"
      ]
     },
     "execution_count": 25,
     "metadata": {},
     "output_type": "execute_result"
    }
   ],
   "source": [
    "dfx[\"ANTI_B\"]"
   ]
  },
  {
   "cell_type": "code",
   "execution_count": 26,
   "id": "ea960e46",
   "metadata": {},
   "outputs": [],
   "source": [
    "dfy['ANTI_A']=(dfy['ANTI_A']-dfy['ANTI_A'].min())/(dfy['ANTI_A'].max()-dfy['ANTI_A'].min())\n",
    "dfy['ANTI_B']=(dfy['ANTI_B']-dfy['ANTI_B'].min())/(dfy['ANTI_B'].max()-dfy['ANTI_B'].min())"
   ]
  },
  {
   "cell_type": "code",
   "execution_count": 27,
   "id": "2cfaf264",
   "metadata": {},
   "outputs": [
    {
     "data": {
      "text/plain": [
       "23    0.896120\n",
       "24    0.451815\n",
       "25    0.000000\n",
       "26    0.100125\n",
       "27    0.101377\n",
       "28    0.839800\n",
       "29    0.138924\n",
       "30    0.687109\n",
       "31    0.871089\n",
       "32    0.836045\n",
       "33    0.818523\n",
       "34    0.295369\n",
       "35    0.276596\n",
       "36    0.005006\n",
       "37    1.000000\n",
       "38    0.852315\n",
       "39    0.823529\n",
       "Name: ANTI_A, dtype: float64"
      ]
     },
     "execution_count": 27,
     "metadata": {},
     "output_type": "execute_result"
    }
   ],
   "source": [
    "dfy['ANTI_A']"
   ]
  },
  {
   "cell_type": "code",
   "execution_count": 28,
   "id": "4ebb1acc",
   "metadata": {},
   "outputs": [
    {
     "data": {
      "text/plain": [
       "23    0.582589\n",
       "24    0.492187\n",
       "25    0.023438\n",
       "26    0.189732\n",
       "27    0.264509\n",
       "28    0.828125\n",
       "29    0.039062\n",
       "30    0.292411\n",
       "31    0.753348\n",
       "32    0.549107\n",
       "33    0.867188\n",
       "34    0.127232\n",
       "35    0.272321\n",
       "36    0.000000\n",
       "37    0.777902\n",
       "38    1.000000\n",
       "39    0.879464\n",
       "Name: ANTI_B, dtype: float64"
      ]
     },
     "execution_count": 28,
     "metadata": {},
     "output_type": "execute_result"
    }
   ],
   "source": [
    "dfy['ANTI_B']"
   ]
  },
  {
   "cell_type": "code",
   "execution_count": 29,
   "id": "28e235c0",
   "metadata": {},
   "outputs": [
    {
     "data": {
      "image/png": "[encoded data removed]",
      "text/plain": [
       "<Figure size 432x288 with 1 Axes>"
      ]
     },
     "metadata": {
      "needs_background": "light"
     },
     "output_type": "display_data"
    }
   ],
   "source": [
    "dfx.plot.scatter(x='ANTI_A',y='ANTI_B')\n",
    "\n",
    "mb.title('Scatter Plot on ANTI_A v/s ANTI_B')\n",
    "mb.xlabel('ANTI_A')\n",
    "mb.ylabel('ANTI_B')\n",
    "mb.show()"
   ]
  },
  {
   "cell_type": "code",
   "execution_count": 30,
   "id": "3b462334",
   "metadata": {},
   "outputs": [
    {
     "data": {
      "image/png": "[encoded data removed]",
      "text/plain": [
       "<Figure size 432x288 with 1 Axes>"
      ]
     },
     "metadata": {
      "needs_background": "light"
     },
     "output_type": "display_data"
    }
   ],
   "source": [
    "dfy.plot.scatter(x='ANTI_A',y='ANTI_B')\n",
    "\n",
    "mb.title('Scatter Plot on ANTI_A v/s ANTI_B')\n",
    "mb.xlabel('ANTI_A')\n",
    "mb.ylabel('ANTI_B')\n",
    "mb.show()"
   ]
  },
  {
   "cell_type": "code",
   "execution_count": 31,
   "id": "cbb3af95",
   "metadata": {},
   "outputs": [
    {
     "data": {
      "text/plain": [
       "-0.4496274725459929"
      ]
     },
     "execution_count": 31,
     "metadata": {},
     "output_type": "execute_result"
    }
   ],
   "source": [
    "dfx['ANTI_A'].corr(dfx['ANTI_B'])"
   ]
  },
  {
   "cell_type": "code",
   "execution_count": 32,
   "id": "eeb205f7",
   "metadata": {},
   "outputs": [
    {
     "data": {
      "text/plain": [
       "0.8938242533758366"
      ]
     },
     "execution_count": 32,
     "metadata": {},
     "output_type": "execute_result"
    }
   ],
   "source": [
    "dfy['ANTI_A'].corr(dfy['ANTI_B'])"
   ]
  },
  {
   "cell_type": "code",
   "execution_count": null,
   "id": "6b7ffe49",
   "metadata": {},
   "outputs": [],
   "source": []
  }
 ],
 "metadata": {
  "kernelspec": {
   "display_name": "Python 3",
   "language": "python",
   "name": "python3"
  },
  "language_info": {
   "codemirror_mode": {
    "name": "ipython",
    "version": 3
   },
   "file_extension": ".py",
   "mimetype": "text/x-python",
   "name": "python",
   "nbconvert_exporter": "python",
   "pygments_lexer": "ipython3",
   "version": "3.8.8"
  }
 },
 "nbformat": 4,
 "nbformat_minor": 5
}
